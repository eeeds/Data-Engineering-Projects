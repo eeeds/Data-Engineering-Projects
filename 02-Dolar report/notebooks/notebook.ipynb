{
 "cells": [
  {
   "cell_type": "code",
   "execution_count": 1,
   "metadata": {},
   "outputs": [],
   "source": [
    "import sys\n",
    "sys.path.append('../credentials/') \n",
    "from credentials import DolarCredentials\n",
    "from twilio.rest import Client\n",
    "from requests import Request, Session \n",
    "from requests.exceptions import ConnectionError, Timeout, TooManyRedirects\n",
    "import time \n",
    "import os \n",
    "import json \n",
    "\n",
    "\n",
    "import pandas as pd \n",
    "import requests \n",
    "from bs4 import BeautifulSoup\n",
    "from tqdm import tqdm\n",
    "\n",
    "from datetime import datetime"
   ]
  },
  {
   "cell_type": "code",
   "execution_count": 10,
   "metadata": {},
   "outputs": [],
   "source": [
    "url = 'https://dolar.melizeche.com/api/1.0/'\n"
   ]
  },
  {
   "cell_type": "code",
   "execution_count": 32,
   "metadata": {},
   "outputs": [],
   "source": [
    "r = requests.get(url)\n",
    "##I'll get dolar for Guarani\n",
    "dolar_value = r.json()['dolarpy']['bcp']['compra']\n",
    "## Hour of this value\n",
    "hour = r.json()['updated']"
   ]
  },
  {
   "attachments": {},
   "cell_type": "markdown",
   "metadata": {},
   "source": [
    "## DataFrame"
   ]
  },
  {
   "cell_type": "code",
   "execution_count": 37,
   "metadata": {},
   "outputs": [],
   "source": [
    "dict = {'dolar_value':dolar_value, 'hour':hour}\n",
    "df = pd.DataFrame(dict, index=[0])"
   ]
  },
  {
   "cell_type": "code",
   "execution_count": 38,
   "metadata": {},
   "outputs": [
    {
     "data": {
      "text/html": [
       "<div>\n",
       "<style scoped>\n",
       "    .dataframe tbody tr th:only-of-type {\n",
       "        vertical-align: middle;\n",
       "    }\n",
       "\n",
       "    .dataframe tbody tr th {\n",
       "        vertical-align: top;\n",
       "    }\n",
       "\n",
       "    .dataframe thead th {\n",
       "        text-align: right;\n",
       "    }\n",
       "</style>\n",
       "<table border=\"1\" class=\"dataframe\">\n",
       "  <thead>\n",
       "    <tr style=\"text-align: right;\">\n",
       "      <th></th>\n",
       "      <th>dolar_value</th>\n",
       "      <th>hour</th>\n",
       "    </tr>\n",
       "  </thead>\n",
       "  <tbody>\n",
       "    <tr>\n",
       "      <th>0</th>\n",
       "      <td>7177.0</td>\n",
       "      <td>2023-06-05 13:50:31</td>\n",
       "    </tr>\n",
       "  </tbody>\n",
       "</table>\n",
       "</div>"
      ],
      "text/plain": [
       "   dolar_value                 hour\n",
       "0       7177.0  2023-06-05 13:50:31"
      ]
     },
     "execution_count": 38,
     "metadata": {},
     "output_type": "execute_result"
    }
   ],
   "source": [
    "df.head()"
   ]
  },
  {
   "cell_type": "code",
   "execution_count": 39,
   "metadata": {},
   "outputs": [
    {
     "name": "stdout",
     "output_type": "stream",
     "text": [
      "SMee2e8df552cf7307879caaa26a089ba2\n"
     ]
    }
   ],
   "source": [
    "### Send SMS using Twilio\n",
    "credentials = DolarCredentials()\n",
    "message_template  = \"Hi, this is your dolar report for now. It's currently {dolar_value} and it was updated at {hour}\"\n",
    "\n",
    "time.sleep(3)\n",
    "account_sid = credentials.TWILIO_ACCOUNT_SID\n",
    "auth_token = credentials.TWILIO_AUTH_TOKEN\n",
    "\n",
    "client = Client(account_sid, auth_token)\n",
    "\n",
    "message = client.messages \\\n",
    "                .create(\n",
    "                        body=message_template.format(\n",
    "                            dolar_value=df['dolar_value'].values[0],\n",
    "                            hour=df['hour'].values[0]\n",
    "                        ),\n",
    "                        from_=\"+15005550006\",\n",
    "                        to='+595 982 355439'\n",
    "                    )\n",
    "\n",
    "print(message.sid)\n"
   ]
  },
  {
   "cell_type": "code",
   "execution_count": null,
   "metadata": {},
   "outputs": [],
   "source": []
  }
 ],
 "metadata": {
  "kernelspec": {
   "display_name": "weather_project",
   "language": "python",
   "name": "python3"
  },
  "language_info": {
   "codemirror_mode": {
    "name": "ipython",
    "version": 3
   },
   "file_extension": ".py",
   "mimetype": "text/x-python",
   "name": "python",
   "nbconvert_exporter": "python",
   "pygments_lexer": "ipython3",
   "version": "3.9.16"
  },
  "orig_nbformat": 4
 },
 "nbformat": 4,
 "nbformat_minor": 2
}
